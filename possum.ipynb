{
  "cells": [
    {
      "cell_type": "markdown",
      "metadata": {
        "id": "view-in-github",
        "colab_type": "text"
      },
      "source": [
        "<a href=\"https://colab.research.google.com/github/Preeti27092000/possum_linear_regression/blob/main/possum.ipynb\" target=\"_parent\"><img src=\"https://colab.research.google.com/assets/colab-badge.svg\" alt=\"Open In Colab\"/></a>"
      ]
    },
    {
      "cell_type": "code",
      "execution_count": null,
      "id": "876ce99d",
      "metadata": {
        "id": "876ce99d"
      },
      "outputs": [],
      "source": [
        "# import 'Pandas' \n",
        "import pandas as pd \n",
        "\n",
        "# import 'Numpy' \n",
        "import numpy as np\n",
        "\n",
        "# import subpackage of Matplotlib\n",
        "import matplotlib.pyplot as plt\n",
        "\n",
        "# import 'Seaborn' \n",
        "import seaborn as sns\n",
        "\n",
        "# to suppress warnings \n",
        "from warnings import filterwarnings\n",
        "filterwarnings('ignore')\n",
        "\n",
        "# display all columns of the dataframe\n",
        "pd.options.display.max_columns = None\n",
        "\n",
        "# display all rows of the dataframe\n",
        "pd.options.display.max_rows = None\n",
        " \n",
        "# to display the float values upto 6 decimal places     \n",
        "pd.options.display.float_format = '{:.6f}'.format\n",
        "\n",
        "# import train-test split \n",
        "from sklearn.model_selection import train_test_split\n",
        "\n",
        "# import various functions from statsmodel to perform linear regression\n",
        "import statsmodels\n",
        "import statsmodels.api as sm"
      ]
    },
    {
      "cell_type": "code",
      "execution_count": null,
      "id": "1d685d9a",
      "metadata": {
        "id": "1d685d9a",
        "outputId": "084a2cb0-746c-4c04-a7bc-a5d96934784d"
      },
      "outputs": [
        {
          "data": {
            "text/html": [
              "<div>\n",
              "<style scoped>\n",
              "    .dataframe tbody tr th:only-of-type {\n",
              "        vertical-align: middle;\n",
              "    }\n",
              "\n",
              "    .dataframe tbody tr th {\n",
              "        vertical-align: top;\n",
              "    }\n",
              "\n",
              "    .dataframe thead th {\n",
              "        text-align: right;\n",
              "    }\n",
              "</style>\n",
              "<table border=\"1\" class=\"dataframe\">\n",
              "  <thead>\n",
              "    <tr style=\"text-align: right;\">\n",
              "      <th></th>\n",
              "      <th>case</th>\n",
              "      <th>site</th>\n",
              "      <th>Pop</th>\n",
              "      <th>sex</th>\n",
              "      <th>age</th>\n",
              "      <th>hdlngth</th>\n",
              "      <th>skullw</th>\n",
              "      <th>totlngth</th>\n",
              "      <th>taill</th>\n",
              "      <th>footlgth</th>\n",
              "      <th>earconch</th>\n",
              "      <th>eye</th>\n",
              "      <th>chest</th>\n",
              "      <th>belly</th>\n",
              "    </tr>\n",
              "  </thead>\n",
              "  <tbody>\n",
              "    <tr>\n",
              "      <th>0</th>\n",
              "      <td>1</td>\n",
              "      <td>1</td>\n",
              "      <td>Vic</td>\n",
              "      <td>m</td>\n",
              "      <td>8.000000</td>\n",
              "      <td>94.100000</td>\n",
              "      <td>60.400000</td>\n",
              "      <td>89.000000</td>\n",
              "      <td>36.000000</td>\n",
              "      <td>74.500000</td>\n",
              "      <td>54.500000</td>\n",
              "      <td>15.200000</td>\n",
              "      <td>28.000000</td>\n",
              "      <td>36.000000</td>\n",
              "    </tr>\n",
              "    <tr>\n",
              "      <th>1</th>\n",
              "      <td>2</td>\n",
              "      <td>1</td>\n",
              "      <td>Vic</td>\n",
              "      <td>f</td>\n",
              "      <td>6.000000</td>\n",
              "      <td>92.500000</td>\n",
              "      <td>57.600000</td>\n",
              "      <td>91.500000</td>\n",
              "      <td>36.500000</td>\n",
              "      <td>72.500000</td>\n",
              "      <td>51.200000</td>\n",
              "      <td>16.000000</td>\n",
              "      <td>28.500000</td>\n",
              "      <td>33.000000</td>\n",
              "    </tr>\n",
              "    <tr>\n",
              "      <th>2</th>\n",
              "      <td>3</td>\n",
              "      <td>1</td>\n",
              "      <td>Vic</td>\n",
              "      <td>f</td>\n",
              "      <td>6.000000</td>\n",
              "      <td>94.000000</td>\n",
              "      <td>60.000000</td>\n",
              "      <td>95.500000</td>\n",
              "      <td>39.000000</td>\n",
              "      <td>75.400000</td>\n",
              "      <td>51.900000</td>\n",
              "      <td>15.500000</td>\n",
              "      <td>30.000000</td>\n",
              "      <td>34.000000</td>\n",
              "    </tr>\n",
              "    <tr>\n",
              "      <th>3</th>\n",
              "      <td>4</td>\n",
              "      <td>1</td>\n",
              "      <td>Vic</td>\n",
              "      <td>f</td>\n",
              "      <td>6.000000</td>\n",
              "      <td>93.200000</td>\n",
              "      <td>57.100000</td>\n",
              "      <td>92.000000</td>\n",
              "      <td>38.000000</td>\n",
              "      <td>76.100000</td>\n",
              "      <td>52.200000</td>\n",
              "      <td>15.200000</td>\n",
              "      <td>28.000000</td>\n",
              "      <td>34.000000</td>\n",
              "    </tr>\n",
              "    <tr>\n",
              "      <th>4</th>\n",
              "      <td>5</td>\n",
              "      <td>1</td>\n",
              "      <td>Vic</td>\n",
              "      <td>f</td>\n",
              "      <td>2.000000</td>\n",
              "      <td>91.500000</td>\n",
              "      <td>56.300000</td>\n",
              "      <td>85.500000</td>\n",
              "      <td>36.000000</td>\n",
              "      <td>71.000000</td>\n",
              "      <td>53.200000</td>\n",
              "      <td>15.100000</td>\n",
              "      <td>28.500000</td>\n",
              "      <td>33.000000</td>\n",
              "    </tr>\n",
              "  </tbody>\n",
              "</table>\n",
              "</div>"
            ],
            "text/plain": [
              "   case  site  Pop sex      age   hdlngth    skullw  totlngth     taill  \\\n",
              "0     1     1  Vic   m 8.000000 94.100000 60.400000 89.000000 36.000000   \n",
              "1     2     1  Vic   f 6.000000 92.500000 57.600000 91.500000 36.500000   \n",
              "2     3     1  Vic   f 6.000000 94.000000 60.000000 95.500000 39.000000   \n",
              "3     4     1  Vic   f 6.000000 93.200000 57.100000 92.000000 38.000000   \n",
              "4     5     1  Vic   f 2.000000 91.500000 56.300000 85.500000 36.000000   \n",
              "\n",
              "   footlgth  earconch       eye     chest     belly  \n",
              "0 74.500000 54.500000 15.200000 28.000000 36.000000  \n",
              "1 72.500000 51.200000 16.000000 28.500000 33.000000  \n",
              "2 75.400000 51.900000 15.500000 30.000000 34.000000  \n",
              "3 76.100000 52.200000 15.200000 28.000000 34.000000  \n",
              "4 71.000000 53.200000 15.100000 28.500000 33.000000  "
            ]
          },
          "execution_count": 4,
          "metadata": {},
          "output_type": "execute_result"
        }
      ],
      "source": [
        "p = pd.read_csv(\"possum.csv\")\n",
        "p.head()"
      ]
    },
    {
      "cell_type": "code",
      "execution_count": null,
      "id": "1bb89dad",
      "metadata": {
        "id": "1bb89dad",
        "outputId": "91a87f0b-63d8-4ffb-9a89-d9f75cef5c1a"
      },
      "outputs": [
        {
          "data": {
            "text/plain": [
              "(104, 14)"
            ]
          },
          "execution_count": 7,
          "metadata": {},
          "output_type": "execute_result"
        }
      ],
      "source": [
        "p.shape"
      ]
    },
    {
      "cell_type": "code",
      "execution_count": null,
      "id": "26c3a480",
      "metadata": {
        "id": "26c3a480",
        "outputId": "480984ab-c94b-45eb-a119-2703f666d8e1"
      },
      "outputs": [
        {
          "name": "stdout",
          "output_type": "stream",
          "text": [
            "<class 'pandas.core.frame.DataFrame'>\n",
            "RangeIndex: 104 entries, 0 to 103\n",
            "Data columns (total 14 columns):\n",
            " #   Column    Non-Null Count  Dtype  \n",
            "---  ------    --------------  -----  \n",
            " 0   case      104 non-null    int64  \n",
            " 1   site      104 non-null    int64  \n",
            " 2   Pop       104 non-null    object \n",
            " 3   sex       104 non-null    object \n",
            " 4   age       102 non-null    float64\n",
            " 5   hdlngth   104 non-null    float64\n",
            " 6   skullw    104 non-null    float64\n",
            " 7   totlngth  104 non-null    float64\n",
            " 8   taill     104 non-null    float64\n",
            " 9   footlgth  103 non-null    float64\n",
            " 10  earconch  104 non-null    float64\n",
            " 11  eye       104 non-null    float64\n",
            " 12  chest     104 non-null    float64\n",
            " 13  belly     104 non-null    float64\n",
            "dtypes: float64(10), int64(2), object(2)\n",
            "memory usage: 11.5+ KB\n"
          ]
        }
      ],
      "source": [
        "p.info()"
      ]
    },
    {
      "cell_type": "code",
      "execution_count": null,
      "id": "2c37c733",
      "metadata": {
        "id": "2c37c733",
        "outputId": "0465460c-ff42-4eb0-9b2d-c6e87a0e9938"
      },
      "outputs": [
        {
          "data": {
            "text/plain": [
              "other    58\n",
              "Vic      46\n",
              "Name: Pop, dtype: int64"
            ]
          },
          "execution_count": 12,
          "metadata": {},
          "output_type": "execute_result"
        }
      ],
      "source": [
        "p['Pop'].value_counts()"
      ]
    },
    {
      "cell_type": "code",
      "execution_count": null,
      "id": "728a87a4",
      "metadata": {
        "id": "728a87a4",
        "outputId": "391c3156-6b8f-453b-9373-d2f40a802e16"
      },
      "outputs": [
        {
          "data": {
            "text/plain": [
              "1    33\n",
              "7    18\n",
              "2    13\n",
              "5    13\n",
              "6    13\n",
              "3     7\n",
              "4     7\n",
              "Name: site, dtype: int64"
            ]
          },
          "execution_count": 14,
          "metadata": {},
          "output_type": "execute_result"
        }
      ],
      "source": [
        "p['site'].value_counts()"
      ]
    },
    {
      "cell_type": "code",
      "execution_count": null,
      "id": "7e347e73",
      "metadata": {
        "id": "7e347e73"
      },
      "outputs": [],
      "source": []
    }
  ],
  "metadata": {
    "kernelspec": {
      "display_name": "Python 3 (ipykernel)",
      "language": "python",
      "name": "python3"
    },
    "language_info": {
      "codemirror_mode": {
        "name": "ipython",
        "version": 3
      },
      "file_extension": ".py",
      "mimetype": "text/x-python",
      "name": "python",
      "nbconvert_exporter": "python",
      "pygments_lexer": "ipython3",
      "version": "3.10.2"
    },
    "colab": {
      "provenance": [],
      "include_colab_link": true
    }
  },
  "nbformat": 4,
  "nbformat_minor": 5
}